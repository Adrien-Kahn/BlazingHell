{
  "nbformat": 4,
  "nbformat_minor": 0,
  "metadata": {
    "colab": {
      "name": "Untitled1.ipynb",
      "provenance": []
    },
    "kernelspec": {
      "name": "python3",
      "display_name": "Python 3"
    }
  },
  "cells": [
    {
      "cell_type": "code",
      "metadata": {
        "id": "y7Gy4fkwVG0r"
      },
      "source": [
        "def aligner(tab1, liste1, tab2, liste2):\r\n",
        "  (n1,m1)=np.shape(tab1)\r\n",
        "  (n2,m2)=np.shape(tab2)\r\n",
        "  tab3=np.zeros((n1,m1))\r\n",
        "  ab1=(((liste1[1][0]-liste1[0][0])+(liste1[2][0]-liste1[3][0]))/2,((liste1[1][1]-liste1[0][1])+(liste1[2][1]-liste1[3][1]))/2)\r\n",
        "  ad1=(((liste1[3][0]-liste1[0][0])+(liste1[2][0]-liste1[1][0]))/2,((liste1[3][1]-liste1[0][1])+(liste1[2][1]-liste1[1][1]))/2)\r\n",
        "  ab2=(((liste2[1][0]-liste2[0][0])+(liste2[2][0]-liste2[3][0]))/2,((liste2[1][1]-liste2[0][1])+(liste2[2][1]-liste2[3][1]))/2)\r\n",
        "  ad2=(((liste2[3][0]-liste2[0][0])+(liste2[2][0]-liste2[1][0]))/2,((liste2[3][1]-liste2[0][1])+(liste2[2][1]-liste2[1][1]))/2)\r\n",
        "  for i in range (n2):\r\n",
        "    for j in range (m2):  \r\n",
        "      (x2,y2)=(liste2[0][0]+(j/(m2-1))*ab2[0]+(i/(n2-1))*ad2[0],liste2[0][1]+(j/(m2-1))*ab2[1]+(i/(n2-1))*ad2[1])\r\n",
        "      k1=(1/(ab1[0]**2+ab1[1]**2))*((x2-liste1[0][0])*ab1[0]+(y2-liste1[0][1])*ab1[1])\r\n",
        "      k2=(1/(ad1[0]**2+ad1[1]**2))*((x2-liste1[0][0])*ad1[0]+(y2-liste1[0][1])*ad1[1])\r\n",
        "      if k1<=1 and k1>=0 and k2<=1 and k2>=0:\r\n",
        "        if round(k2*(n1-1))<n1  and round(k2*(n1-1))>=0 and round(k1*(m1-1))<m1 and round(k1*(m1-1))>=0:\r\n",
        "         tab3[round(k2*(n1-1))][round(k1*(m1-1))]=tab2[i][j]\r\n",
        "  return(tab3)"
      ],
      "execution_count": null,
      "outputs": []
    }
  ]
}